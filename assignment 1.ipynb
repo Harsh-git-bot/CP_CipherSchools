{
 "cells": [
  {
   "cell_type": "markdown",
   "metadata": {},
   "source": [
    "0. Two People meet each other"
   ]
  },
  {
   "cell_type": "code",
   "execution_count": 4,
   "metadata": {},
   "outputs": [
    {
     "name": "stdout",
     "output_type": "stream",
     "text": [
      "Enter the position of 1st person:4\n",
      "Enter the jumping distance by 1st person:8\n",
      "Enter the position of 2nd person:6\n",
      "Enter the jumping distance by 2nd person:6\n",
      "Yes\n"
     ]
    }
   ],
   "source": [
    "def meet(p1, j1, p2, j2):\n",
    "    if (p1 < p2):\n",
    "        p1, p2 = p2, p1\n",
    "        j1, j2 = j2, j1\n",
    "    if(p1 > p2) and (j1 >= j2):\n",
    "        return False\n",
    "    return((p1 - p2) % (j1 - j2) == 0)\n",
    "    \n",
    "    \n",
    "posi1 = int(input(\"Enter the position of 1st person:\"))\n",
    "jump1 = int(input(\"Enter the jumping distance by 1st person:\"))\n",
    "posi2 = int(input(\"Enter the position of 2nd person:\"))\n",
    "jump2 = int(input(\"Enter the jumping distance by 2nd person:\"))\n",
    "cnf = meet(posi1, jump1, posi2, jump2)\n",
    "if(cnf):\n",
    "    print(\"Yes\")\n",
    "else:\n",
    "    print(\"No\")"
   ]
  },
  {
   "cell_type": "markdown",
   "metadata": {},
   "source": [
    "----------------------------------------------------------------------------- \n",
    "1. Find majority element"
   ]
  },
  {
   "cell_type": "code",
   "execution_count": 14,
   "metadata": {},
   "outputs": [
    {
     "name": "stdout",
     "output_type": "stream",
     "text": [
      "Enter elements separated by a space :2 2 2 3\n",
      "Majority Element is 2\n"
     ]
    }
   ],
   "source": [
    "def majority(a,l):\n",
    "    hm = {}\n",
    "    for i in range(l):\n",
    "        if a[i] in hm:\n",
    "            hm[a[i]] += 1\n",
    "        else:\n",
    "            hm[a[i]] = 1\n",
    "    index = 0\n",
    "    flag = False\n",
    "    for j in hm:\n",
    "        if hm[j] > l/2:\n",
    "            flag = True\n",
    "            index = j\n",
    "    if(flag == True):\n",
    "        print(\"Majority Element is\",index)\n",
    "    else:\n",
    "        print(\"No majority element\")\n",
    "    \n",
    "a = list(map(int,input(\"Enter elements separated by a space :\").split()))\n",
    "l = len(a)\n",
    "majority(a,l)"
   ]
  },
  {
   "cell_type": "markdown",
   "metadata": {},
   "source": [
    "-----------------------------------------------------------------------------\n",
    "2. Find peak element"
   ]
  },
  {
   "cell_type": "code",
   "execution_count": 3,
   "metadata": {},
   "outputs": [
    {
     "name": "stdout",
     "output_type": "stream",
     "text": [
      "Enter elements separated by a space :2 3 4 1 5 6 0\n",
      "7\n",
      "Peak elements are 4 6\n"
     ]
    }
   ],
   "source": [
    "def peakElement(a,l):\n",
    "    if (l == 1):\n",
    "        print (\"Peek element is\",a[0])\n",
    "        return\n",
    "    if (a[0] > a[1]):\n",
    "        print (\"Peek element is\",a[0])\n",
    "        return\n",
    "    if (a[l-1] > a[l-2]):\n",
    "        print (\"Peek element is\",a[n-1])\n",
    "        return\n",
    "    ele = []\n",
    "    for i in range(1,l-1):\n",
    "        if (a[i] >= a[i-1]) and (a[i] >= a[i+1]):\n",
    "            ele.append(a[i])\n",
    "    if(len(ele)==1):\n",
    "        print (\"Peek element is\",ele[0])\n",
    "    else:\n",
    "        print(\"Peak elements are\",*ele)\n",
    "    \n",
    "a = list(map(int,input(\"Enter elements separated by a space :\").split()))\n",
    "l = len(a)\n",
    "peakElement(a,l)"
   ]
  },
  {
   "cell_type": "markdown",
   "metadata": {},
   "source": [
    "-----------------------------------------------------------------------------\n",
    "3. Search in a sorted matrix"
   ]
  },
  {
   "cell_type": "code",
   "execution_count": 22,
   "metadata": {},
   "outputs": [
    {
     "name": "stdout",
     "output_type": "stream",
     "text": [
      "Number of rows: 4\n",
      "Number of columns: 4\n",
      "Input matrix elements separated by space: 10 20 30 40 15 25 35 45 27 29 37 48 32 33 39 50\n",
      "Element to be searched: 29\n",
      "Element found at 2,1\n"
     ]
    }
   ],
   "source": [
    "import numpy as np\n",
    "def searchMatrix(m,r,c,k):\n",
    "    i = 0\n",
    "    j = c-1\n",
    "    while(i < r and j >= 0):\n",
    "        if(m[i][j] == k):\n",
    "            print(\"Element found at {},{}\".format(i,j))\n",
    "            return\n",
    "        if(m[i][j] > k):\n",
    "            j -= 1\n",
    "        else:\n",
    "            i +=1\n",
    "    print(\"Element not found\")\n",
    "    return\n",
    "            \n",
    "r=int(input(\"Number of rows: \"))\n",
    "c=int(input(\"Number of columns: \"))\n",
    "entries = list(map(int, input(\"Input matrix elements separated by space: \").split()))\n",
    "key = int(input(\"Element to be searched: \"))\n",
    "matrix = np.array(entries).reshape(r, c)\n",
    "searchMatrix(matrix,r,c,key)"
   ]
  },
  {
   "cell_type": "markdown",
   "metadata": {},
   "source": [
    "-----------------------------------------------------------------------------\n",
    "4. First and Last position of an element in a sorted array"
   ]
  },
  {
   "cell_type": "code",
   "execution_count": 4,
   "metadata": {},
   "outputs": [
    {
     "name": "stdout",
     "output_type": "stream",
     "text": [
      "Enter the sorted array separated by space: 1 2 2 3 2 4 3 2 5\n",
      "Enter the digit whose first and last occurence is to be found :2\n",
      "First occurance is 1 and last occurance is 7\n"
     ]
    }
   ],
   "source": [
    "def firstlast(a, n, k):\n",
    "    f = -1\n",
    "    l = -1\n",
    "    for i in range(0,n):\n",
    "        if (k == a[i]):\n",
    "            if(f == -1):\n",
    "                f = i\n",
    "            l = i\n",
    "    if(f != -1):\n",
    "        print(\"First occurance is {} and last occurance is {}\".format(f,l))\n",
    "    else:\n",
    "        print(\"Item not present\")\n",
    "    \n",
    "    \n",
    "a = list(map(int,input(\"Enter the sorted array separated by space: \").split()))\n",
    "key = int(input(\"Enter the digit whose first and last occurence is to be found :\"))\n",
    "n = len(a)\n",
    "firstlast(a, n, key)"
   ]
  },
  {
   "cell_type": "markdown",
   "metadata": {},
   "source": [
    "--------\n",
    "5. Segregate 0s and 1s in an array"
   ]
  },
  {
   "cell_type": "code",
   "execution_count": 1,
   "metadata": {},
   "outputs": [
    {
     "name": "stdout",
     "output_type": "stream",
     "text": [
      "Enter the array containg 0 and 1 separated by space: 0 1 1 0 1 1 0 0 1 0\n",
      "0 0 0 0 0 1 1 1 1 1\n"
     ]
    }
   ],
   "source": [
    "def segregate(a,l):\n",
    "    count = 0\n",
    "    for i in range(l):\n",
    "        if a[i] == 0:\n",
    "            count += 1\n",
    "    for i in range(l):\n",
    "        if (i < count):\n",
    "            a[i] = 0\n",
    "        else:\n",
    "            a[i] = 1\n",
    "    print(*a)\n",
    "    \n",
    "a = list(map(int,input(\"Enter the array containg 0 and 1 separated by space: \").split()))\n",
    "l = len(a)\n",
    "segregate(a,l)"
   ]
  },
  {
   "cell_type": "markdown",
   "metadata": {},
   "source": [
    "----\n",
    "6. Sort 0, 1, 2"
   ]
  },
  {
   "cell_type": "code",
   "execution_count": 7,
   "metadata": {},
   "outputs": [
    {
     "name": "stdout",
     "output_type": "stream",
     "text": [
      "Enter the array containg 0, 1 and 2 separated by space: 0 0 1 2 1 0 2 1 0 1 2 2 1 1 0\n",
      "0 0 0 0 0 1 1 1 1 1 1 2 2 2 2\n"
     ]
    }
   ],
   "source": [
    "def sortZeroOneTwo(a,l):\n",
    "    count0 = 0\n",
    "    count1 = 0\n",
    "    for i in range(l):\n",
    "        if a[i] == 0:\n",
    "            count0 += 1\n",
    "        if a[i] == 1:\n",
    "            count1 +=1\n",
    "    for i in range(l):\n",
    "        if (i < count0):\n",
    "            a[i] = 0\n",
    "        elif (i < count0+count1):\n",
    "            a[i] = 1\n",
    "        else:\n",
    "            a[i] = 2\n",
    "    print(*a)\n",
    "    \n",
    "a = list(map(int,input(\"Enter the array containg 0, 1 and 2 separated by space: \").split()))\n",
    "l = len(a)\n",
    "sortZeroOneTwo(a,l)"
   ]
  },
  {
   "cell_type": "markdown",
   "metadata": {},
   "source": [
    "----\n",
    "7. Alternative Sorting"
   ]
  },
  {
   "cell_type": "code",
   "execution_count": 4,
   "metadata": {},
   "outputs": [
    {
     "name": "stdout",
     "output_type": "stream",
     "text": [
      "Enter the array separated by space: 1 7 2 4 10 9 3\n",
      "10 1 9 2 7 3 4\n"
     ]
    }
   ],
   "source": [
    "def altersort(a,l):\n",
    "    beg = 0\n",
    "    last = l-1\n",
    "    #b = []\n",
    "    while(beg < last):\n",
    "        #b.append(last)\n",
    "        #b.append(beg)\n",
    "        print(a[last], end = \" \")\n",
    "        print(a[beg], end = \" \")\n",
    "        beg += 1\n",
    "        last -= 1\n",
    "    if (l % 2 != 0): \n",
    "        #b.append(a[last])\n",
    "        print(a[last])\n",
    "    #print(*b)\n",
    "        \n",
    "    \n",
    "a = list(map(int,input(\"Enter the array separated by space: \").split()))\n",
    "a.sort()\n",
    "l = len(a)\n",
    "altersort(a,l)"
   ]
  },
  {
   "cell_type": "markdown",
   "metadata": {},
   "source": [
    "---\n",
    "8. K smallest elements"
   ]
  },
  {
   "cell_type": "code",
   "execution_count": 6,
   "metadata": {},
   "outputs": [
    {
     "name": "stdout",
     "output_type": "stream",
     "text": [
      "Enter the array separated by space: 1 2 9 0 12 50 3\n",
      "Enter the number of elements for display: 3\n",
      "0 1 2 "
     ]
    }
   ],
   "source": [
    "a = list(map(int,input(\"Enter the array separated by space: \").split()))\n",
    "key = int(input(\"Enter the number of elements for display: \"))\n",
    "a.sort()\n",
    "l = len(a)\n",
    "for i in range(key):\n",
    "    print(a[i], end = \" \")\n"
   ]
  },
  {
   "cell_type": "markdown",
   "metadata": {},
   "source": [
    "---\n",
    "9. Counting inversions"
   ]
  },
  {
   "cell_type": "code",
   "execution_count": 16,
   "metadata": {},
   "outputs": [
    {
     "name": "stdout",
     "output_type": "stream",
     "text": [
      "Enter the array separated by space: 8 4 2 1\n",
      "Number of inversions: 6\n"
     ]
    }
   ],
   "source": [
    "def merge(a, t, l, mid, r):\n",
    "    i = l\n",
    "    j = mid + 1\n",
    "    k = l\n",
    "    inversionCount = 0\n",
    "    while i <= mid and j <= r:\n",
    "        if a[i] <= a[j]:\n",
    "            t[k] = a[i]\n",
    "            k += 1\n",
    "            i += 1\n",
    "        else:\n",
    "            t[k] = a[j]\n",
    "            inversionCount += (mid-i + 1)\n",
    "            k += 1\n",
    "            j += 1\n",
    "    while i <= mid:\n",
    "        t[k] = a[i]\n",
    "        k += 1\n",
    "        i += 1\n",
    "    while j <= r:\n",
    "        t[k] = a[j]\n",
    "        k += 1\n",
    "        j += 1\n",
    "\n",
    "    for loopVariable in range(l, r + 1):\n",
    "        a[loopVariable] = t[loopVariable]\n",
    "         \n",
    "    return inversionCount\n",
    "\n",
    "def mergesort2(a, t, l, r):\n",
    "    inversionCount = 0\n",
    "    if l < r:\n",
    "        mid = (l + r)//2\n",
    "        inversionCount += mergesort2(a, t, l, mid)\n",
    "        inversionCount += mergesort2(a, t, mid + 1, r)\n",
    "        inversionCount += merge(a, t, l, mid, r)\n",
    "    return inversionCount\n",
    "\n",
    "def mergesort(a, l):\n",
    "    temp = [0] * l\n",
    "    return mergesort2(a, temp, 0, n-1)\n",
    "\n",
    "\n",
    "\n",
    "a = list(map(int,input(\"Enter the array separated by space: \").split()))\n",
    "n = len(a)\n",
    "result = mergesort(a, n)\n",
    "print(\"Number of inversions:\",result)\n"
   ]
  },
  {
   "cell_type": "markdown",
   "metadata": {},
   "source": [
    "---\n",
    "10. Trapping Rainwater"
   ]
  },
  {
   "cell_type": "code",
   "execution_count": 19,
   "metadata": {},
   "outputs": [
    {
     "name": "stdout",
     "output_type": "stream",
     "text": [
      "Enter the height of buildings separated by space: 1 7 9 2 1 11\n",
      "Trapped water: 15\n"
     ]
    }
   ],
   "source": [
    "def trappedWater(a,l):\n",
    "    water = 0\n",
    "    lmax = 0\n",
    "    rmax = 0\n",
    "    beg = 0\n",
    "    last = l-1\n",
    "    while(beg < last):\n",
    "        if(a[beg] < a[last]):\n",
    "            if(a[beg] > lmax):\n",
    "                lmax = a[beg]\n",
    "            else:\n",
    "                water += lmax - a[beg]\n",
    "            beg += 1\n",
    "        else:\n",
    "            if(a[last] > rmax):\n",
    "                rmax = a[last]\n",
    "            else:\n",
    "                water += rmax - a[last]\n",
    "            last -= 1\n",
    "    print(\"Trapped water:\",water)\n",
    "\n",
    "a = list(map(int,input(\"Enter the height of buildings separated by space: \").split()))\n",
    "l = len(a)\n",
    "trappedWater(a,l)"
   ]
  },
  {
   "cell_type": "markdown",
   "metadata": {},
   "source": [
    "---\n",
    "11. Stock buy-sell to maximize profit"
   ]
  },
  {
   "cell_type": "code",
   "execution_count": 27,
   "metadata": {},
   "outputs": [
    {
     "name": "stdout",
     "output_type": "stream",
     "text": [
      "Enter the cost of stocks per-day separated by space: 100 200 250 300 120 390\n",
      "Maximum profit is 290\n"
     ]
    }
   ],
   "source": [
    "def maxprofit(a,l):\n",
    "    if l==0:\n",
    "        return 0\n",
    "    price = 0\n",
    "    max_price = 0\n",
    "    min_price = a[0]\n",
    "    for i in range(l):\n",
    "        min_price = min(min_price, a[i])\n",
    "        price = a[i] - min_price\n",
    "        max_price = max(price, max_price)\n",
    "    return max_price\n",
    "    \n",
    "a = list(map(int,input(\"Enter the cost of stocks per-day separated by space: \").split()))\n",
    "l = len(a)\n",
    "print(\"Maximum profit is\",maxprofit(a,l))"
   ]
  },
  {
   "cell_type": "markdown",
   "metadata": {},
   "source": [
    "----\n",
    "12. Print string in spiral form"
   ]
  },
  {
   "cell_type": "code",
   "execution_count": 33,
   "metadata": {},
   "outputs": [
    {
     "name": "stdout",
     "output_type": "stream",
     "text": [
      "Number of rows: 4\n",
      "Number of columns: 4\n",
      "Input matrix elements separated by space: 1 2 3 4 5 6 7 8 9 10 11 12 13 14 15 16\n",
      "1 2 3 4 8 12 16 15 14 13 9 5 6 7 11 10 "
     ]
    }
   ],
   "source": [
    "import numpy as np\n",
    "def spiralprint(m, r, c, x, y):\n",
    "    if(x >= r or y >= c):\n",
    "        return\n",
    "    \n",
    "    for i in range (x, c):\n",
    "        print(m[x][i], end=\" \")\n",
    "    for i in range (x+1, r):\n",
    "        print(m[i][c-1], end =\" \")\n",
    "    \n",
    "    if((r-1) != x):\n",
    "        for i in range(c-2, y-1, -1):\n",
    "            print(m[r-1][i], end=\" \")\n",
    "    if((c-1) != y):\n",
    "        for i in range(r-2, x, -1):\n",
    "            print(m[i][y], end=\" \")\n",
    "        \n",
    "    spiralprint(m, r-1, c-1, x+1, y+1)\n",
    "    \n",
    "row=int(input(\"Number of rows: \"))\n",
    "column=int(input(\"Number of columns: \"))\n",
    "entries = list(map(int, input(\"Input matrix elements separated by space: \").split()))\n",
    "matrix = np.array(entries).reshape(row, column)\n",
    "spiralprint(matrix,row,column,0,0)"
   ]
  },
  {
   "cell_type": "markdown",
   "metadata": {},
   "source": [
    "---\n",
    "14. Largest Sum Contiguous array"
   ]
  },
  {
   "cell_type": "code",
   "execution_count": 36,
   "metadata": {},
   "outputs": [
    {
     "name": "stdout",
     "output_type": "stream",
     "text": [
      "Enter the array separated by space: -1 4 20 -25 7 11\n",
      "Maximum cntiguous sum of array is: 24\n"
     ]
    }
   ],
   "source": [
    "def largestSumContiguousArray(a,n):\n",
    "    maxi = a[0]\n",
    "    curr_max = a[0]\n",
    "    for i in range(1,n):\n",
    "        curr_max = max(curr_max + a[i], a[i])\n",
    "        maxi = max(maxi, curr_max)\n",
    "    print(\"Maximum cntiguous sum of array is:\",maxi)\n",
    "\n",
    "a = list(map(int,input(\"Enter the array separated by space: \").split()))\n",
    "n = len(a)\n",
    "largestSumContiguousArray(a,n)"
   ]
  },
  {
   "cell_type": "markdown",
   "metadata": {},
   "source": [
    "---\n",
    "15. Minimum platform"
   ]
  },
  {
   "cell_type": "code",
   "execution_count": 4,
   "metadata": {},
   "outputs": [
    {
     "name": "stdout",
     "output_type": "stream",
     "text": [
      "Enter the arrival times separated by space: 900 940 950 1100 1500 1800\n",
      "Enter the departure times separated by space: 910 1200 1120 1130 1900 2000\n",
      "Minimum platforms required are: 3\n"
     ]
    }
   ],
   "source": [
    "def minPlatform(a,d,l):\n",
    "    min_platform = 1\n",
    "    active_platform = 1\n",
    "    i = 1\n",
    "    j = 0\n",
    "    while(i < l and j < l):\n",
    "        if(a[i] <= d[j]):\n",
    "            active_platform += 1\n",
    "            i +=1\n",
    "        else:\n",
    "            active_platform -=1\n",
    "            j +=1\n",
    "        if(active_platform > min_platform):\n",
    "            min_platform = active_platform\n",
    "    print(\"Minimum platforms required are:\",min_platform)\n",
    "    \n",
    "arrival = list(map(int,input(\"Enter the arrival times separated by space: \").split()))\n",
    "departure = list(map(int,input(\"Enter the departure times separated by space: \").split()))\n",
    "arrival.sort()\n",
    "departure.sort()\n",
    "l=len(arrival)\n",
    "if l != 0:\n",
    "    minPlatform(arrival,departure,l)\n",
    "else:\n",
    "    print(\"No platform Required\")"
   ]
  },
  {
   "cell_type": "markdown",
   "metadata": {},
   "source": [
    "---\n",
    "16. Find the missing number"
   ]
  },
  {
   "cell_type": "code",
   "execution_count": 7,
   "metadata": {},
   "outputs": [
    {
     "name": "stdout",
     "output_type": "stream",
     "text": [
      "Enter the array separated by space: 1 2 3 4 5 6 8 9 10 11 12 13 14\n",
      "Missing Number is: 7\n"
     ]
    }
   ],
   "source": [
    "a = list(map(int,input(\"Enter the array separated by space: \").split()))\n",
    "n = len(a)\n",
    "desired_sum = (n+1)*(n+2)//2\n",
    "actual_sum = sum(a)\n",
    "missing_number = desired_sum - actual_sum\n",
    "print(\"Missing Number is:\",missing_number)"
   ]
  },
  {
   "cell_type": "markdown",
   "metadata": {},
   "source": [
    "---\n",
    "17. Merge two sorted arrays"
   ]
  },
  {
   "cell_type": "code",
   "execution_count": 10,
   "metadata": {},
   "outputs": [
    {
     "name": "stdout",
     "output_type": "stream",
     "text": [
      "Enter the first array elements separated by space: 1 5 9 13\n",
      "Enter the second array elements separated by space: 2 3 7 20\n",
      "1 2 3 5 7 9 13 20\n"
     ]
    }
   ],
   "source": [
    "def mergeSorted(a1,a2,l1,l2):\n",
    "    a3 = []\n",
    "    i = 0\n",
    "    j = 0\n",
    "    while(i < l1 and j < l2):\n",
    "        if(a1[i] < a2[j]):\n",
    "            a3.append(a1[i])\n",
    "            i += 1\n",
    "        else:\n",
    "            a3.append(a2[j])\n",
    "            j += 1\n",
    "    while(i<l1):\n",
    "        a3.append(a1[i])\n",
    "        i += 1\n",
    "    while(j<l2):\n",
    "        a3.append(a2[j])\n",
    "        j += 1\n",
    "    print(*a3)\n",
    "        \n",
    "a1 = list(map(int,input(\"Enter the first array elements separated by space: \").split()))\n",
    "a2 = list(map(int,input(\"Enter the second array elements separated by space: \").split()))\n",
    "l1 = len(a1)\n",
    "l2 = len(a2)\n",
    "mergeSorted(a1,a2,l1,l2)"
   ]
  },
  {
   "cell_type": "markdown",
   "metadata": {},
   "source": [
    "---\n",
    "19. create a dynamic array"
   ]
  },
  {
   "cell_type": "code",
   "execution_count": 11,
   "metadata": {},
   "outputs": [],
   "source": [
    "#list in python is dynamic"
   ]
  },
  {
   "cell_type": "markdown",
   "metadata": {},
   "source": [
    "---\n",
    "21. 1)Binary Search "
   ]
  },
  {
   "cell_type": "code",
   "execution_count": 12,
   "metadata": {},
   "outputs": [
    {
     "name": "stdout",
     "output_type": "stream",
     "text": [
      "Enter the Sorted array separated by space: 1 3 4 6 7 10 11 34 56\n",
      "Enter the number to be searched: 7\n",
      "7 found at 4\n"
     ]
    }
   ],
   "source": [
    "def binarysearch(a, k, beg, last):\n",
    "    if(beg > last):\n",
    "        return -1\n",
    "    else:\n",
    "        mid = (beg + last)//2\n",
    "        if a[mid] == k:\n",
    "            return mid\n",
    "        elif(a[mid] < k):\n",
    "            return binarysearch(a, k, mid+1, last)\n",
    "        else:\n",
    "            return binarysearch(a, k, beg, mid-1)\n",
    "            \n",
    "    \n",
    "a = list(map(int,input(\"Enter the Sorted array separated by space: \").split()))\n",
    "key = int(input(\"Enter the number to be searched: \"))\n",
    "l = len(a)\n",
    "res = binarysearch(a, key, 0, l-1)\n",
    "if (res == -1):\n",
    "    print(\"Element not found\")\n",
    "else:\n",
    "    print(\"{} found at {}\".format(key,res))"
   ]
  },
  {
   "cell_type": "markdown",
   "metadata": {},
   "source": [
    "---\n",
    "21. 2)Quicksort"
   ]
  },
  {
   "cell_type": "code",
   "execution_count": 18,
   "metadata": {},
   "outputs": [
    {
     "name": "stdout",
     "output_type": "stream",
     "text": [
      "Enter the array separated by space: 1 3 2 7 5 4\n",
      "1 2 3 4 5 7\n"
     ]
    }
   ],
   "source": [
    "def partition(a, beg, last): \n",
    "    i = (beg-1) \n",
    "    pivot = a[last]\n",
    "  \n",
    "    for j in range(beg, last): \n",
    "        if a[j] <= pivot:\n",
    "            i = i+1\n",
    "            a[i], a[j] = a[j], a[i] \n",
    "  \n",
    "    a[i+1], a[last] = a[last], a[i+1] \n",
    "    return (i+1) \n",
    "\n",
    "def quickSort(a, beg, last): \n",
    "    if len(a) == 1: \n",
    "        return a\n",
    "    if beg < last: \n",
    "        part = partition(a, beg, last) \n",
    "        quickSort(a, beg, part-1) \n",
    "        quickSort(a, part+1, last)\n",
    "\n",
    "a = list(map(int,input(\"Enter the array separated by space: \").split()))\n",
    "l = len(a)\n",
    "quickSort(a, 0, l-1)\n",
    "print(*a)"
   ]
  }
 ],
 "metadata": {
  "kernelspec": {
   "display_name": "Python 3",
   "language": "python",
   "name": "python3"
  },
  "language_info": {
   "codemirror_mode": {
    "name": "ipython",
    "version": 3
   },
   "file_extension": ".py",
   "mimetype": "text/x-python",
   "name": "python",
   "nbconvert_exporter": "python",
   "pygments_lexer": "ipython3",
   "version": "3.6.8"
  }
 },
 "nbformat": 4,
 "nbformat_minor": 4
}
